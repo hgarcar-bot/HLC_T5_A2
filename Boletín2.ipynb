{
 "cells": [
  {
   "cell_type": "code",
   "execution_count": 13,
   "id": "e7a668e4-8161-4a53-b551-71396fd0c610",
   "metadata": {},
   "outputs": [
    {
     "name": "stdin",
     "output_type": "stream",
     "text": [
      "Introduce tu edad 19\n"
     ]
    },
    {
     "name": "stdout",
     "output_type": "stream",
     "text": [
      "es mayor de edad, si puede votar\n"
     ]
    }
   ],
   "source": [
    "#actividad 1\n",
    "def ejer1():\n",
    "    edad = int(input(\"Introduce tu edad\"))\n",
    "\n",
    "    mayor = True if edad >= 18 else False\n",
    "    if mayor == True:\n",
    "        print('es mayor de edad, si puede votar')\n",
    "    elif mayor == False:\n",
    "         print('es menor de edad, no puede votar')\n",
    "\n",
    "ejer1()"
   ]
  },
  {
   "cell_type": "code",
   "execution_count": 23,
   "id": "f9fb3c8c-f056-4a8d-8b33-ecd25f2db69c",
   "metadata": {},
   "outputs": [
    {
     "name": "stdin",
     "output_type": "stream",
     "text": [
      "Introduce el primer número 2\n",
      "Introduce el segundo número 1\n",
      "Introduce el tercer número 3\n"
     ]
    },
    {
     "name": "stdout",
     "output_type": "stream",
     "text": [
      "3  es el mayor\n"
     ]
    }
   ],
   "source": [
    "#actividad 2\n",
    "def ejer2():\n",
    "    num1 = int(input(\"Introduce el primer número\"))\n",
    "    num2 = int(input(\"Introduce el segundo número\"))\n",
    "    num3 = int(input(\"Introduce el tercer número\"))\n",
    "    #if (num1>num2 && num>num3):\n",
    "    if num1>num2 and num1>num3:\n",
    "        print( num1,\" es el mayor\")\n",
    "    elif num2>num1 and num2>num3:\n",
    "        print( num2,\" es el mayor\")\n",
    "    elif num3>num1 and num3>num2:\n",
    "        print( num3,\" es el mayor\")\n",
    "    elif num1==num2:\n",
    "        print( num1,\" y \", num2, \" son iguales\")\n",
    "    elif num1==num3:\n",
    "        print( num1,\" y \", num3, \" son iguales\")\n",
    "    elif num2==num3:\n",
    "        print( num2,\" y \", num3, \" son iguales\")\n",
    "    else:\n",
    "        print(\"todos son iguales\")\n",
    "\n",
    "ejer2()"
   ]
  },
  {
   "cell_type": "code",
   "execution_count": null,
   "id": "54f1a4e0-7a05-4b69-b7f8-6a72449af60e",
   "metadata": {},
   "outputs": [],
   "source": [
    "#actividad 3\n",
    "def he_aprobado():\n",
    "    nota = int(input(\"Introduce tu tabla\"))\n",
    "\n",
    "    if nota < 5:\n",
    "        print(\"Has suspendido :(\")\n",
    "    elif nota >= 5 and nota < 9:\n",
    "        print(\"Tienes un notable\")\n",
    "    else:\n",
    "        print(\"Tienes un sobresaliente\")\n",
    "\n",
    "he_aprobado()"
   ]
  },
  {
   "cell_type": "code",
   "execution_count": 29,
   "id": "64465d1b-9091-459a-b320-97ffa9ef04f8",
   "metadata": {},
   "outputs": [
    {
     "name": "stdin",
     "output_type": "stream",
     "text": [
      "Introduce tu contraseña:  contraseña123\n"
     ]
    },
    {
     "name": "stdout",
     "output_type": "stream",
     "text": [
      "Intento 1: Contraseña incorrecta.\n"
     ]
    },
    {
     "name": "stdin",
     "output_type": "stream",
     "text": [
      "Introduce tu contraseña:  secreta123\n"
     ]
    },
    {
     "name": "stdout",
     "output_type": "stream",
     "text": [
      "Contraseña correcta. ¡Bienvenido!\n"
     ]
    }
   ],
   "source": [
    "#ejercicio 4\n",
    "# Ejemplo de while con varias condiciones\n",
    "intentos = 0\n",
    "while intentos < 3:\n",
    "    contraseña = input(\"Introduce tu contraseña: \")\n",
    "    if contraseña == \"secreta123\":\n",
    "        print(\"Contraseña correcta. ¡Bienvenido!\")\n",
    "        break\n",
    "    else:\n",
    "        intentos += 1\n",
    "        print(f\"Intento {intentos}: Contraseña incorrecta.\")\n",
    "else:\n",
    "    print(\"¡Has agotado tus intentos!\")"
   ]
  },
  {
   "cell_type": "code",
   "execution_count": 33,
   "id": "ec1e253c-2316-4d3a-b93d-8a30a303dcc2",
   "metadata": {},
   "outputs": [
    {
     "name": "stdin",
     "output_type": "stream",
     "text": [
      "Introduce un número para determinar si es par o impar 2\n"
     ]
    },
    {
     "name": "stdout",
     "output_type": "stream",
     "text": [
      "El número 2 es par.\n"
     ]
    }
   ],
   "source": [
    "#actividad 5\n",
    "def act5():\n",
    "    n = int(input(\"Introduce un número para determinar si es par o impar\"))\n",
    "    resultado = \"par\" if n % 2 == 0 else \"impar\"\n",
    "    print(f\"El número {n} es {resultado}.\")\n",
    "act5()"
   ]
  },
  {
   "cell_type": "code",
   "execution_count": 2,
   "id": "e33777aa-a610-4436-b42d-842d000541bc",
   "metadata": {},
   "outputs": [
    {
     "name": "stdin",
     "output_type": "stream",
     "text": [
      "Introduce la palabra add@\n"
     ]
    },
    {
     "name": "stdout",
     "output_type": "stream",
     "text": [
      "la palabra contiene  @\n"
     ]
    }
   ],
   "source": [
    "#actividad 6\n",
    "def check_chars():\n",
    "    word = input (\"Introduce la palabra\")\n",
    "    special_chars = [\"@\", \"#\", \"$\", \"%\"]\n",
    "    \n",
    "    for char in special_chars:\n",
    "        if char in word:\n",
    "            print(\"la palabra contiene \", char)\n",
    "\n",
    "check_chars()"
   ]
  },
  {
   "cell_type": "code",
   "execution_count": 3,
   "id": "3a6a0360-3515-43a1-8f14-7e31505436f5",
   "metadata": {},
   "outputs": [
    {
     "name": "stdout",
     "output_type": "stream",
     "text": [
      "0\n",
      "1\n",
      "1\n",
      "2\n",
      "3\n",
      "5\n",
      "8\n",
      "13\n",
      "21\n",
      "34\n"
     ]
    }
   ],
   "source": [
    "#actividad 7\n",
    "def fibonacci():\n",
    "    a = 0\n",
    "    b = 1\n",
    "    for i in range(10):\n",
    "        print(a)\n",
    "        a, b = b, a+b\n",
    "        # a = b\n",
    "        # a = a+b\n",
    "        \n",
    "fibonacci()"
   ]
  },
  {
   "cell_type": "code",
   "execution_count": null,
   "id": "84e6a207-1cf0-40e9-9177-7e87f4402741",
   "metadata": {},
   "outputs": [],
   "source": [
    "#actividad 8\n",
    "def activi8():\n",
    "    num = input(\"introduce un número\")\n",
    "    "
   ]
  },
  {
   "cell_type": "code",
   "execution_count": 11,
   "id": "27c0d67c-acd5-440b-8525-4cb3fc2b1a14",
   "metadata": {
    "scrolled": true
   },
   "outputs": [
    {
     "name": "stdin",
     "output_type": "stream",
     "text": [
      "Introduce un numero entre 1 y 50 2\n"
     ]
    },
    {
     "name": "stdout",
     "output_type": "stream",
     "text": [
      "Tu número es menor\n"
     ]
    },
    {
     "name": "stdin",
     "output_type": "stream",
     "text": [
      "Introduce un numero entre 1 y 50 9\n"
     ]
    },
    {
     "name": "stdout",
     "output_type": "stream",
     "text": [
      "Tu número es mayor\n"
     ]
    },
    {
     "name": "stdin",
     "output_type": "stream",
     "text": [
      "Introduce un numero entre 1 y 50 6\n"
     ]
    },
    {
     "name": "stdout",
     "output_type": "stream",
     "text": [
      "Tu número es menor\n"
     ]
    },
    {
     "name": "stdin",
     "output_type": "stream",
     "text": [
      "Introduce un numero entre 1 y 50 7\n"
     ]
    },
    {
     "name": "stdout",
     "output_type": "stream",
     "text": [
      "Es correcto\n"
     ]
    }
   ],
   "source": [
    "#actividad 9\n",
    "def act9():\n",
    "    intentos = 0\n",
    "    import random\n",
    "    random1 = random.randint(1, 10) # Número aleatorio entre 1 y 50 (ambos incluidos)\n",
    "    while intentos < 10: \n",
    "        intentos+=1\n",
    "        numero = int(input(\"Introduce un numero entre 1 y 50\"))\n",
    "        if numero > random1:\n",
    "            print(\"Tu número es mayor\")\n",
    "        elif numero < random1:\n",
    "            print(\"Tu número es menor\")\n",
    "        else:\n",
    "            print(\"Es correcto\")\n",
    "            break\n",
    "\n",
    "act9()"
   ]
  },
  {
   "cell_type": "code",
   "execution_count": 6,
   "id": "3aa23726-f7b5-4cb4-9d0e-72673e68c06a",
   "metadata": {},
   "outputs": [
    {
     "name": "stdin",
     "output_type": "stream",
     "text": [
      "Introduce el número de las estrellas 5\n"
     ]
    },
    {
     "name": "stdout",
     "output_type": "stream",
     "text": [
      "★\n",
      "★★\n",
      "★★★\n",
      "★★★★\n",
      "★★★★★\n"
     ]
    }
   ],
   "source": [
    "#actividad 10\n",
    "def dibuja():\n",
    "    num_estrellas = int(input(\"Introduce el número de las estrellas\"))\n",
    "    contador = 1\n",
    "    estrella = \"★\"\n",
    "    for index in range (1,num_estrellas+1):\n",
    "        \n",
    "        print(estrella*index)\n",
    "dibuja()"
   ]
  },
  {
   "cell_type": "code",
   "execution_count": null,
   "id": "9d259b17-6e11-46f3-a15f-0a16e8a630dc",
   "metadata": {},
   "outputs": [],
   "source": []
  }
 ],
 "metadata": {
  "kernelspec": {
   "display_name": "Python 3 (ipykernel)",
   "language": "python",
   "name": "python3"
  },
  "language_info": {
   "codemirror_mode": {
    "name": "ipython",
    "version": 3
   },
   "file_extension": ".py",
   "mimetype": "text/x-python",
   "name": "python",
   "nbconvert_exporter": "python",
   "pygments_lexer": "ipython3",
   "version": "3.13.0"
  }
 },
 "nbformat": 4,
 "nbformat_minor": 5
}
